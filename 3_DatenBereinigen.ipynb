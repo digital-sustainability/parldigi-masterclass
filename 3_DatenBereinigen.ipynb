{
 "cells": [
  {
   "cell_type": "markdown",
   "metadata": {},
   "source": [
    "## Die gesammelten Daten bereinigen"
   ]
  },
  {
   "cell_type": "markdown",
   "metadata": {},
   "source": [
    "Im nächsten Schritt müssen die gesammelten Daten in ein Format gebracht werden, das für neuronale Netzwerke geeignet ist. Genauer wollen wir die JSON-Datei in eine CSV-Datei umwandeln.\n",
    "\n",
    "Die Tabelle, die wir bekommen wollen, sollte ca. folgendermassen aussehen:\n",
    "\n",
    "| id | firstname | firstname | yearOfBirth | gender | ... | 32277 | 32219 | 32256 | 32259 | ... |\n",
    "|-|-|-|-|-|-|-|-|-|-|-|\n",
    "| \"58916\" | \"Jorgo\" | \"Ananiadis\" | 1969 | 0.0 | ... | 0.0 | 0.25 | 0.25 | 0.75 | ... |\n",
    "| \"55096\" | \"Jacqueline\" | \"Badran\" | 1961 | 1.0 | ... | 0.0 | 1.0 | 1.0 | 1.0 | ... |\n",
    "| ... | ... | ... | ... | ... | ... | ... | ... | ... | ... | ... |\n",
    "\n",
    "Die Spalten, die Zahlen als Überschrift haben, enthalten die Antworten der Kandidierenden."
   ]
  },
  {
   "cell_type": "markdown",
   "metadata": {},
   "source": [
    "Hier kommt eine neue Bibliothek ins Spiel:\n",
    "[`pandas`](https://de.wikipedia.org/wiki/Pandas_(Software)) ist eine Programmbibliothek für Python zur Verarbeitung, Analyse und Darstellung von Daten."
   ]
  },
  {
   "cell_type": "code",
   "execution_count": null,
   "metadata": {},
   "outputs": [],
   "source": [
    "import json\n",
    "import pandas as pd\n",
    "\n",
    "\n",
    "mode = 1\n",
    "# 1 = Nationalratswahlen\n",
    "# 2 = Ständeratswahlen\n",
    "\n",
    "filename_json = \"nationalrat_raw.json\" if mode == 1 else \"ständerat_raw.json\"\n",
    "filename_csv_all = \"nationalrat_all.csv\" if mode == 1 else \"ständerat_all.csv\"\n",
    "filename_csv_train = \"nationalrat_train.csv\" if mode == 1 else \"ständerat_train.csv\"\n",
    "filename_csv_test = \"nationalrat_test.csv\" if mode == 1 else \"ständerat_test.csv\""
   ]
  },
  {
   "cell_type": "markdown",
   "metadata": {},
   "source": [
    "Zuerst Laden wir wieder die Rohdaten und schauen uns wieder ein\\*e Kandidat*in an."
   ]
  },
  {
   "cell_type": "code",
   "execution_count": null,
   "metadata": {},
   "outputs": [],
   "source": [
    "candidates = json.load(open(filename_json))\n",
    "candidates[0]"
   ]
  },
  {
   "cell_type": "markdown",
   "metadata": {},
   "source": [
    "Die Antworten auf die Fragen sind aktuell im Format `{'questionId': '32225', 'value': 25}`.\n",
    "Die `questionId`s sind aus mir unbekannten Gründen scheinbar zufällig angeordnet, lasst uns die also einmal sortieren."
   ]
  },
  {
   "cell_type": "code",
   "execution_count": null,
   "metadata": {},
   "outputs": [],
   "source": [
    "for candidate in candidates:\n",
    "    candidate[\"answers\"].sort(key=lambda answer: answer[\"questionId\"])\n",
    "candidates[0]"
   ]
  },
  {
   "cell_type": "markdown",
   "metadata": {},
   "source": [
    "Neuronale Netzwerke \"mögen\" aus mathematischen Gründen normalisierte Zahlen. Heisst: Zahlen zwischen 0 und 1. \n",
    "- Für die Antworten ist die Umwandlung trivial, da die `value` Felder bereits alle zwischen 0 und 100 sind.\n",
    "- Das Netzwerk soll auch das Geschlecht als Input erhalten, also wandeln wir `\"m\"` und `\"f\"` in `0` und `1` um. Einige Kandidierenden haben als Geschlecht `\"x\"` angegeben, das wandeln wir in `0.5` um."
   ]
  },
  {
   "cell_type": "code",
   "execution_count": null,
   "metadata": {},
   "outputs": [],
   "source": [
    "for candidate in candidates:\n",
    "    for answer in candidate[\"answers\"]:\n",
    "        answer[\"value\"] = answer[\"value\"] / 100\n",
    "    if candidate[\"gender\"] == \"m\":\n",
    "        candidate[\"gender\"] = 0\n",
    "        continue\n",
    "    if candidate[\"gender\"] == \"f\":\n",
    "        candidate[\"gender\"] = 1\n",
    "        continue\n",
    "    candidate[\"gender\"] = 0.5\n",
    "candidates[0]"
   ]
  },
  {
   "cell_type": "markdown",
   "metadata": {},
   "source": [
    "Aktuell sind unsere Daten noch hierarchisch verschachtelt. Um die Tabelle erstellen zu können, müssen die Einträge von `'answers'` \"herausgezogen\" werden."
   ]
  },
  {
   "cell_type": "code",
   "execution_count": null,
   "metadata": {},
   "outputs": [],
   "source": [
    "for candidate in candidates:\n",
    "    for answer in candidate[\"answers\"]:\n",
    "        candidate[answer[\"questionId\"]] = answer[\"value\"]\n",
    "    del candidate[\"answers\"]\n",
    "candidates[0]"
   ]
  },
  {
   "cell_type": "markdown",
   "metadata": {},
   "source": [
    "Vorhin beim Analysieren der Daten ist aufgefallen, dass von einigen Parteien nur sehr wenige Personen kandidieren. Lasst uns also alle Kandidierenden aussortieren, die weniger als 9 Kameraden haben."
   ]
  },
  {
   "cell_type": "code",
   "execution_count": null,
   "metadata": {},
   "outputs": [],
   "source": [
    "from collections import defaultdict\n",
    "\n",
    "\n",
    "party_count = defaultdict(int)\n",
    "\n",
    "for candidate in candidates:\n",
    "    party = candidate.get(\"partyAbbreviation\")\n",
    "    if party:\n",
    "        party_count[party] += 1\n",
    "\n",
    "considered_parties = set([party_name for party_name, count in party_count.items() if count >= 10])\n",
    "\n",
    "candidates = [candidate for candidate in candidates if candidate[\"partyAbbreviation\"] in considered_parties]"
   ]
  },
  {
   "cell_type": "markdown",
   "metadata": {},
   "source": [
    "Als letztes speichern wir die Daten als CSV-Dateien ab.\n",
    "\n",
    "Dabei unterteilen wir die Kandidierenden per Zufallsprinzip in eine Trainingsmenge und in eine Testmenge, das wird später beim Trainieren und Testen des neuronalen Netwerks wichtig."
   ]
  },
  {
   "cell_type": "code",
   "execution_count": null,
   "metadata": {},
   "outputs": [],
   "source": [
    "candidates_table = pd.DataFrame(candidates)\n",
    "candidates_table.to_csv(filename_csv_all)\n",
    "\n",
    "\n",
    "from sklearn.model_selection import train_test_split\n",
    "\n",
    "\n",
    "train, test = train_test_split(candidates_table, test_size=0.25, stratify=[candidate[\"partyAbbreviation\"] for candidate in candidates])\n",
    "train.to_csv(filename_csv_train)\n",
    "test.to_csv(filename_csv_test)"
   ]
  }
 ],
 "metadata": {
  "kernelspec": {
   "display_name": "parlamentarier-UYno04rm",
   "language": "python",
   "name": "python3"
  },
  "language_info": {
   "codemirror_mode": {
    "name": "ipython",
    "version": 3
   },
   "file_extension": ".py",
   "mimetype": "text/x-python",
   "name": "python",
   "nbconvert_exporter": "python",
   "pygments_lexer": "ipython3",
   "version": "3.12.5"
  }
 },
 "nbformat": 4,
 "nbformat_minor": 2
}
