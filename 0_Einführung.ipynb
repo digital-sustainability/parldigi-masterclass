{
 "cells": [
  {
   "cell_type": "markdown",
   "metadata": {},
   "source": [
    "## 0. Einführung\n",
    "\n",
    "In diesem Projekt geht es darum, ein neuronales Netzwerk so zu trainieren, dass es anhand der Antworten, die Kandidierende fürs Parlament auf [Smartvote](https://www.smartvote.ch) eingegeben haben, deren jeweilige Partei zu erraten. Dazu sind 4 Schritte notwendig:\n",
    "\n",
    "\n",
    "### 1. Daten sammeln\n",
    "\n",
    "Als erstes werden die Daten von Smartvote geholt und als JSON-Datei gespeichert.\n",
    "\n",
    "### 2. Die gesammelten Daten analysieren\n",
    "\n",
    "Im nächsten Schritt schauen wir uns die Daten etwas genauer an und erfassen einige ihrer Eigenschaften.\n",
    "\n",
    "### 3. Die gesammelten Daten bereinigen\n",
    "\n",
    "Zum Trainieren des neuronalen Netzwerks werden hier die Daten bereinigt. Dazu werden Erkenntnisse aus der vorhergehenden Analyse gebraucht.\n",
    "\n",
    "### 4. Das neuronale Netzwerk trainieren und testen\n",
    "\n",
    "Hier werden die Daten an das neuronale Netzwerk gefüttert und anschliessend wird gemessen, wie gut das Modell die Kandidierenden einteilen kann. Als Abschluss folgt dann noch eine kurze Interpretation der Fehlermatrix der Testdaten."
   ]
  }
 ],
 "metadata": {
  "kernelspec": {
   "display_name": "Python 3",
   "language": "python",
   "name": "python3"
  },
  "language_info": {
   "codemirror_mode": {
    "name": "ipython",
    "version": 3
   },
   "file_extension": ".py",
   "mimetype": "text/x-python",
   "name": "python",
   "nbconvert_exporter": "python",
   "pygments_lexer": "ipython3",
   "version": "3.12.5"
  }
 },
 "nbformat": 4,
 "nbformat_minor": 2
}
