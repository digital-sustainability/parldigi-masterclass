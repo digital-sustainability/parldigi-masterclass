{
  "cells": [
    {
      "cell_type": "markdown",
      "metadata": {},
      "source": [
        "## 0. Einführung\n",
        "\n",
        "Diese Parldigi Masterclass dient der Einführung in das Thema von Algorithmen, Daten und Software in der Politik.\n",
        "Zu Beispielszwecken werden wir mit Daten arbeiten, die von [Smartvote](https://www.smartvote.ch) bezogen werden können.\n",
        "\n",
        "### 1. Daten sammeln\n",
        "\n",
        "Als Erstes werden die Daten von Smartvote geholt und als JSON-Datei gespeichert.\n",
        "\n",
        "### 2. Die gesammelten Daten analysieren\n",
        "\n",
        "Im nächsten Schritt schauen wir uns die Daten genauer an und erfassen einige ihrer Eigenschaften.\n",
        "\n",
        "### 3. Die gesammelten Daten bereinigen\n",
        "\n",
        "Um aussagekräftige Visualisierungen zu erstellen, müssen die Daten zunächst weiter bereinigt werden.\n"
      ]
    }
  ],
  "metadata": {
    "kernelspec": {
      "display_name": "Python 3",
      "language": "python",
      "name": "python3"
    },
    "language_info": {
      "codemirror_mode": {
        "name": "ipython",
        "version": 3
      },
      "file_extension": ".py",
      "mimetype": "text/x-python",
      "name": "python",
      "nbconvert_exporter": "python",
      "pygments_lexer": "ipython3",
      "version": "3.12.5"
    }
  },
  "nbformat": 4,
  "nbformat_minor": 2
}
