{
 "cells": [
  {
   "cell_type": "markdown",
   "metadata": {},
   "source": [
    "## 2. Die gesammelten Daten analysieren\n"
   ]
  },
  {
   "cell_type": "markdown",
   "metadata": {},
   "source": [
    "Jetzt haben wir uns viele Daten beschafft, kennen aber noch wenige deren Eigenschaften.\n",
    "\n",
    "Wir wollen beginnen uns einen Überblick über tatsächlichen Informationen zu beschaffen welche in diesen Daten enthalten sind."
   ]
  },
  {
   "cell_type": "markdown",
   "metadata": {},
   "source": [
    "Zuerst wieder die Bibliotheken und Konfigurationen.\n"
   ]
  },
  {
   "cell_type": "code",
   "execution_count": null,
   "metadata": {},
   "outputs": [],
   "source": [
    "import json\n",
    "from collections import defaultdict\n",
    "\n",
    "\n",
    "mode = 1\n",
    "# 1 = Nationalratswahlen\n",
    "\n",
    "filename = \"nationalrat_raw.json\""
   ]
  },
  {
   "cell_type": "markdown",
   "metadata": {},
   "source": [
    "Im folgenden definieren wir eine *Funktion*.\n",
    "Diese Funktion erlaubt es uns Daten etwas schöner auszugeben"
   ]
  },
  {
   "cell_type": "code",
   "execution_count": 3,
   "metadata": {},
   "outputs": [],
   "source": [
    "def print_dict(d: dict):\n",
    "    maxlen_keys = max(map(len, map(str, d.keys())))\n",
    "    maxlen_values = max(map(len, map(str, d.values())))\n",
    "    for key in d.keys():\n",
    "        print(f\"{key:.<{maxlen_keys}}{d[key]:.>{maxlen_values+1}}\")"
   ]
  },
  {
   "cell_type": "markdown",
   "metadata": {},
   "source": [
    "Dann folgt das Laden der Daten.\n"
   ]
  },
  {
   "cell_type": "code",
   "execution_count": 4,
   "metadata": {},
   "outputs": [],
   "source": [
    "candidates = json.load(open(filename, encoding=\"utf-8\"))"
   ]
  },
  {
   "cell_type": "markdown",
   "metadata": {},
   "source": [
    "Wie viele Personen kandidieren für jede Partei?\n"
   ]
  },
  {
   "cell_type": "code",
   "execution_count": 5,
   "metadata": {},
   "outputs": [
    {
     "name": "stdout",
     "output_type": "stream",
     "text": [
      "Die Mitte.........690\n",
      "GLP...............576\n",
      "SP................440\n",
      "FDP...............363\n",
      "Grüne.............351\n",
      "SVP...............321\n",
      "EVP...............239\n",
      "JM................232\n",
      "JG................211\n",
      "JUSO..............206\n",
      "JFS...............201\n",
      "JGLP..............183\n",
      "EDU...............157\n",
      "JSVP..............156\n",
      "Ind................84\n",
      "JEVP...............80\n",
      "MASS-VOLL!.........59\n",
      "PdA................55\n",
      "PP.................45\n",
      "Aufrecht...........45\n",
      "engagiert..........39\n",
      "AL.................31\n",
      "EAG-LUP............29\n",
      "SD.................22\n",
      "LP.................20\n",
      "MCG................16\n",
      "Les Libres.........13\n",
      "SOL................13\n",
      "Lega................9\n",
      "PC..................7\n",
      "PCS.................7\n",
      "BastA!..............6\n",
      "JA..................6\n",
      "DA..................5\n",
      "Grüne Panther.......5\n",
      "SE..................5\n",
      "JBastA..............4\n",
      "JLB.................4\n",
      "LDP.................4\n",
      "LOVB................4\n",
      "Avanti..............3\n",
      "Forum Alternativo...3\n",
      "Parteifrei..........3\n",
      "Più Donne...........3\n",
      "DAL.................2\n",
      "PdA Basel...........1\n",
      "Pacte Citoyen.......1\n",
      "CSP.................1\n",
      "Parat...............1\n",
      "neo.................1\n",
      "MuPa................1\n"
     ]
    }
   ],
   "source": [
    "party_count = defaultdict(int)\n",
    "\n",
    "for candidate in candidates:\n",
    "    party = candidate.get(\"partyAbbreviation\")\n",
    "    if party:\n",
    "        party_count[party] += 1\n",
    "\n",
    "# Sortieren nach Anzahl Kandidierende pro Partei\n",
    "party_count = dict(sorted(party_count.items(), key=lambda item: item[1], reverse=True))\n",
    "print_dict(party_count)"
   ]
  },
  {
   "cell_type": "markdown",
   "metadata": {},
   "source": [
    "Wie sieht's aus mit dem Frauenanteil der Kandidierenden?\n"
   ]
  },
  {
   "cell_type": "code",
   "execution_count": null,
   "metadata": {},
   "outputs": [
    {
     "name": "stdout",
     "output_type": "stream",
     "text": [
      "SOL........67%\n",
      "EAG-LUP....66%\n",
      "MCG........56%\n",
      "JG.........55%\n",
      "AL.........55%\n",
      "JEVP.......54%\n",
      "Grüne......52%\n",
      "SP.........51%\n",
      "JUSO.......50%\n",
      "EVP........49%\n",
      "engagiert..41%\n",
      "GLP........40%\n",
      "PdA........40%\n",
      "JGLP.......39%\n",
      "FDP........38%\n",
      "Die Mitte..38%\n",
      "JM.........35%\n",
      "MASS-VOLL!.34%\n",
      "Ind........31%\n",
      "Aufrecht...31%\n",
      "Les Libres.31%\n",
      "JFS........30%\n",
      "EDU........29%\n",
      "PP.........29%\n",
      "SVP........25%\n",
      "JSVP.......19%\n",
      "SD.........18%\n",
      "LP..........5%\n"
     ]
    }
   ],
   "source": [
    "# Ein Dictionary für Frauen und Männer, eins nur für Frauen. Kandidierende ohne Eintrag beim Feld \"gender\" werden ignoriert\n",
    "all_candidates = defaultdict(int) # Objekt für Frauen und Männer\n",
    "female_only = defaultdict(int) # Objekt nur für Frauen\n",
    "\n",
    "# Iteriert über alle Kandidierenden und zählt Frauen und Männer pro Partei\n",
    "for candidate in candidates:\n",
    "    party = candidate.get(\"partyAbbreviation\")\n",
    "    gender = candidate.get(\"gender\")\n",
    "    # Wenn die Kandidierende Person einer Partei zugeordnet ist\n",
    "    if party: # and party_count[party] >= 10: # Nur Parteien mit mindestens 10 Kandidierenden\n",
    "        # Wenn die Kandidierende Person weiblich ist\n",
    "        if gender == \"f\":\n",
    "            female_only[party] += 1\n",
    "            all_candidates[party] += 1\n",
    "        # Wenn die Kandidierende Person männlich ist\n",
    "        if gender == \"m\":\n",
    "            all_candidates[party] += 1\n",
    "\n",
    "# Berechnet den Frauenanteil\n",
    "age_share = {}\n",
    "for party_name, young in female_only.items():\n",
    "    ratio = young / all_candidates[party_name]\n",
    "    age_share[party_name] = f\"{ratio:.0%}\"\n",
    "age_share = dict(sorted(age_share.items(), key=lambda item: int(item[1].strip('%')), reverse=True))\n",
    "\n",
    "print_dict(age_share)"
   ]
  },
  {
   "cell_type": "markdown",
   "metadata": {},
   "source": [
    "Dasselbe können wir auch mit dem Alter machen und uns anschauen wie die Altersverteilung ausschaut.\n",
    "\n",
    "Wir wollen den Anteil an Kandidierenden berechnen die Jünger als 40 (definierbar) sind."
   ]
  },
  {
   "cell_type": "code",
   "execution_count": 9,
   "metadata": {},
   "outputs": [
    {
     "name": "stdout",
     "output_type": "stream",
     "text": [
      "JFS........100%\n",
      "JGLP.......100%\n",
      "JM.........100%\n",
      "JEVP.......100%\n",
      "JSVP.......100%\n",
      "JUSO.......100%\n",
      "JG.........100%\n",
      "JBastA.....100%\n",
      "JLB........100%\n",
      "JA.........100%\n",
      "Parat......100%\n",
      "PC..........86%\n",
      "SOL.........69%\n",
      "Avanti......67%\n",
      "Più Donne...67%\n",
      "SE..........60%\n",
      "DA..........60%\n",
      "PP..........53%\n",
      "BastA!......50%\n",
      "LP..........45%\n",
      "PdA.........44%\n",
      "AL..........39%\n",
      "SP..........38%\n",
      "EDU.........34%\n",
      "EAG-LUP.....34%\n",
      "Grüne.......33%\n",
      "Lega........33%\n",
      "MASS-VOLL!..31%\n",
      "GLP.........28%\n",
      "FDP.........26%\n",
      "SVP.........25%\n",
      "LDP.........25%\n",
      "LOVB........25%\n",
      "engagiert...23%\n",
      "Die Mitte...22%\n",
      "MCG.........19%\n",
      "SD..........18%\n",
      "Ind.........17%\n",
      "EVP.........16%\n",
      "Les Libres..15%\n",
      "PCS.........14%\n",
      "Aufrecht.....7%\n"
     ]
    }
   ],
   "source": [
    "age_cutoff = 40\n",
    "\n",
    "# Ein Dictionary für Frauen und Männer, eins nur für Frauen. Kandidierende ohne Eintrag beim Feld \"gender\" werden ignoriert\n",
    "all_candidates = defaultdict(int) # Objekt für Frauen und Männer\n",
    "younger_only = defaultdict(int) # Objekt nur für Frauen\n",
    "\n",
    "# Iteriert über alle Kandidierenden und zählt Frauen und Männer pro Partei\n",
    "for candidate in candidates:\n",
    "    party = candidate.get(\"partyAbbreviation\")\n",
    "    age = 2024 - candidate.get(\"yearOfBirth\")\n",
    "    # Wenn die Kandidierende Person einer Partei zugeordnet ist\n",
    "    if party:\n",
    "        # Wenn die Kandidierende Person jünger ist\n",
    "        if age <= age_cutoff:\n",
    "            younger_only[party] += 1\n",
    "            all_candidates[party] += 1\n",
    "        # Wenn die Kandidierende Person älter ist\n",
    "        else:\n",
    "            all_candidates[party] += 1\n",
    "\n",
    "# Berechnet den Altersanteil\n",
    "age_share = {}\n",
    "for party_name, young in younger_only.items():\n",
    "    ratio = young / all_candidates[party_name]\n",
    "    age_share[party_name] = f\"{ratio:.0%}\"\n",
    "age_share = dict(sorted(age_share.items(), key=lambda item: int(item[1].strip('%')), reverse=True))\n",
    "\n",
    "print_dict(age_share)"
   ]
  }
 ],
 "metadata": {
  "kernelspec": {
   "display_name": "base",
   "language": "python",
   "name": "python3"
  },
  "language_info": {
   "codemirror_mode": {
    "name": "ipython",
    "version": 3
   },
   "file_extension": ".py",
   "mimetype": "text/x-python",
   "name": "python",
   "nbconvert_exporter": "python",
   "pygments_lexer": "ipython3",
   "version": "3.12.4"
  }
 },
 "nbformat": 4,
 "nbformat_minor": 2
}
