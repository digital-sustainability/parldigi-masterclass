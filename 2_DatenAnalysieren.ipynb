{
 "cells": [
  {
   "cell_type": "markdown",
   "metadata": {},
   "source": [
    "## 2. Die gesammelten Daten analysieren\n"
   ]
  },
  {
   "cell_type": "markdown",
   "metadata": {},
   "source": [
    "Jetzt haben wir uns viele Daten beschafft, kennen aber noch wenige deren Eigenschaften.\n",
    "\n",
    "Wir wollen beginnen uns einen Überblick über tatsächlichen Informationen zu beschaffen welche in diesen Daten enthalten sind."
   ]
  },
  {
   "cell_type": "markdown",
   "metadata": {},
   "source": [
    "Zuerst wieder die Bibliotheken und Konfigurationen...\n"
   ]
  },
  {
   "cell_type": "code",
   "execution_count": null,
   "metadata": {},
   "outputs": [],
   "source": [
    "import json\n",
    "from collections import defaultdict\n",
    "\n",
    "\n",
    "mode = 1\n",
    "# 1 = Nationalratswahlen\n",
    "# 2 = Ständeratswahlen\n",
    "\n",
    "filename = \"nationalrat_raw.json\" if mode == 1 else \"ständerat_raw.json\""
   ]
  },
  {
   "cell_type": "markdown",
   "metadata": {},
   "source": [
    "Im folgenden definieren wir eine *Funktion*.\n",
    "Diese Funktion erlaubt es uns Daten etwas schöner auszugeben"
   ]
  },
  {
   "cell_type": "code",
   "execution_count": null,
   "metadata": {},
   "outputs": [],
   "source": [
    "def print_dict(d: dict):\n",
    "    maxlen_keys = max(map(len, map(str, d.keys())))\n",
    "    maxlen_values = max(map(len, map(str, d.values())))\n",
    "    for key in d.keys():\n",
    "        print(f\"{key:.<{maxlen_keys}}{d[key]:.>{maxlen_values+1}}\")"
   ]
  },
  {
   "cell_type": "markdown",
   "metadata": {},
   "source": [
    "Dann folgt das Laden der Daten.\n"
   ]
  },
  {
   "cell_type": "code",
   "execution_count": null,
   "metadata": {},
   "outputs": [],
   "source": [
    "candidates = json.load(open(filename, encoding=\"utf-8\"))"
   ]
  },
  {
   "cell_type": "markdown",
   "metadata": {},
   "source": [
    "Wie viele Personen kandidieren für jede Partei?\n"
   ]
  },
  {
   "cell_type": "code",
   "execution_count": null,
   "metadata": {},
   "outputs": [],
   "source": [
    "party_count = defaultdict(int)\n",
    "\n",
    "for candidate in candidates:\n",
    "    party = candidate.get(\"partyAbbreviation\")\n",
    "    if party:\n",
    "        party_count[party] += 1\n",
    "\n",
    "# Sortieren nach Anzahl Kandidierende pro Partei\n",
    "party_count = dict(sorted(party_count.items(), key=lambda item: item[1], reverse=True))\n",
    "print_dict(party_count)"
   ]
  },
  {
   "cell_type": "markdown",
   "metadata": {},
   "source": [
    "Wie sieht's aus mit dem Frauenanteil der Kandidierenden?\n"
   ]
  },
  {
   "cell_type": "code",
   "execution_count": 5,
   "metadata": {},
   "outputs": [
    {
     "ename": "NameError",
     "evalue": "name 'candidates' is not defined",
     "output_type": "error",
     "traceback": [
      "\u001b[0;31m---------------------------------------------------------------------------\u001b[0m",
      "\u001b[0;31mNameError\u001b[0m                                 Traceback (most recent call last)",
      "Cell \u001b[0;32mIn[5], line 6\u001b[0m\n\u001b[1;32m      3\u001b[0m f_only \u001b[38;5;241m=\u001b[39m defaultdict(\u001b[38;5;28mint\u001b[39m) \u001b[38;5;66;03m# Objekt nur für Frauen\u001b[39;00m\n\u001b[1;32m      5\u001b[0m \u001b[38;5;66;03m# Iteriert über alle Kandidierenden und zählt Frauen und Männer pro Partei\u001b[39;00m\n\u001b[0;32m----> 6\u001b[0m \u001b[38;5;28;01mfor\u001b[39;00m candidate \u001b[38;5;129;01min\u001b[39;00m candidates:\n\u001b[1;32m      7\u001b[0m     party \u001b[38;5;241m=\u001b[39m candidate\u001b[38;5;241m.\u001b[39mget(\u001b[38;5;124m\"\u001b[39m\u001b[38;5;124mpartyAbbreviation\u001b[39m\u001b[38;5;124m\"\u001b[39m)\n\u001b[1;32m      8\u001b[0m     gender \u001b[38;5;241m=\u001b[39m candidate\u001b[38;5;241m.\u001b[39mget(\u001b[38;5;124m\"\u001b[39m\u001b[38;5;124mgender\u001b[39m\u001b[38;5;124m\"\u001b[39m)\n",
      "\u001b[0;31mNameError\u001b[0m: name 'candidates' is not defined"
     ]
    }
   ],
   "source": [
    "# Ein Dictionary für Frauen und Männer, eins nur für Frauen. Kandidierende ohne Eintrag beim Feld \"gender\" werden ignoriert\n",
    "f_and_m = defaultdict(int) # Objekt für Frauen und Männer\n",
    "f_only = defaultdict(int) # Objekt nur für Frauen\n",
    "\n",
    "# Iteriert über alle Kandidierenden und zählt Frauen und Männer pro Partei\n",
    "for candidate in candidates:\n",
    "    party = candidate.get(\"partyAbbreviation\")\n",
    "    gender = candidate.get(\"gender\")\n",
    "    # Wenn die Kandidierende Person einer Partei zugeordnet ist\n",
    "    if party:\n",
    "        # Wenn die Kandidierende Person weiblich ist\n",
    "        if gender == \"f\":\n",
    "            f_only[party] += 1\n",
    "            f_and_m[party] += 1\n",
    "        # Wenn die Kandidierende Person männlich ist\n",
    "        if gender == \"m\":\n",
    "            f_and_m[party] += 1\n",
    "\n",
    "# Berechnet den Frauenanteil\n",
    "female_share = {}\n",
    "for party_name, women in f_only.items():\n",
    "    ratio = women / f_and_m[party_name]\n",
    "    female_share[party_name] = f\"{ratio:.0%}\"\n",
    "female_share = dict(sorted(female_share.items(), key=lambda item: item[1], reverse=True))\n",
    "\n",
    "print_dict(female_share)"
   ]
  }
 ],
 "metadata": {
  "kernelspec": {
   "display_name": "base",
   "language": "python",
   "name": "python3"
  },
  "language_info": {
   "codemirror_mode": {
    "name": "ipython",
    "version": 3
   },
   "file_extension": ".py",
   "mimetype": "text/x-python",
   "name": "python",
   "nbconvert_exporter": "python",
   "pygments_lexer": "ipython3",
   "version": "3.12.4"
  }
 },
 "nbformat": 4,
 "nbformat_minor": 2
}
