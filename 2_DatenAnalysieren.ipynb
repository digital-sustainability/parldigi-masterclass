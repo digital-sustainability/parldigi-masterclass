{
 "cells": [
  {
   "cell_type": "markdown",
   "metadata": {},
   "source": [
    "## 2. Die gesammelten Daten analysieren\n"
   ]
  },
  {
   "cell_type": "markdown",
   "metadata": {},
   "source": [
    "Die Daten sind erstmals nur das: Daten. Wir müssen also noch herausfinden, was für Eigenschaften diese überhaupt haben, um sie später verwenden zu können.\n"
   ]
  },
  {
   "cell_type": "markdown",
   "metadata": {},
   "source": [
    "Zuerst wieder die Bibliotheken und Konfigurationen...\n"
   ]
  },
  {
   "cell_type": "code",
   "execution_count": 2,
   "metadata": {},
   "outputs": [],
   "source": [
    "import json\n",
    "from collections import defaultdict\n",
    "\n",
    "\n",
    "mode = 1\n",
    "# 1 = Nationalratswahlen\n",
    "# 2 = Ständeratswahlen\n",
    "\n",
    "filename = \"nationalrat_raw.json\" if mode == 1 else \"ständerat_raw.json\""
   ]
  },
  {
   "cell_type": "markdown",
   "metadata": {},
   "source": [
    "Hier ist noch eine kleine Hilfsfunktion zum schönen Darstellen einiger Daten\n"
   ]
  },
  {
   "cell_type": "code",
   "execution_count": 3,
   "metadata": {},
   "outputs": [],
   "source": [
    "def print_dict(d: dict):\n",
    "    maxlen_keys = max(map(len, map(str, d.keys())))\n",
    "    maxlen_values = max(map(len, map(str, d.values())))\n",
    "    for key in d.keys():\n",
    "        # abc:.........420\n",
    "        print(f\"{key:.<{maxlen_keys}}{d[key]:.>{maxlen_values+1}}\")"
   ]
  },
  {
   "cell_type": "markdown",
   "metadata": {},
   "source": [
    "Dann folgt das Laden der Daten.\n"
   ]
  },
  {
   "cell_type": "code",
   "execution_count": 5,
   "metadata": {},
   "outputs": [],
   "source": [
    "candidates = json.load(open(filename, encoding=\"utf-8\"))"
   ]
  },
  {
   "cell_type": "markdown",
   "metadata": {},
   "source": [
    "Wie viele Personen kandidieren für jede Partei?\n"
   ]
  },
  {
   "cell_type": "code",
   "execution_count": null,
   "metadata": {},
   "outputs": [
    {
     "name": "stdout",
     "output_type": "stream",
     "text": [
      "Die Mitte.........690\n",
      "GLP...............576\n",
      "SP................440\n",
      "FDP...............363\n",
      "Grüne.............351\n",
      "SVP...............321\n",
      "EVP...............239\n",
      "JM................232\n",
      "JG................211\n",
      "JUSO..............206\n",
      "JFS...............202\n",
      "JGLP..............183\n",
      "EDU...............157\n",
      "JSVP..............156\n",
      "Ind................84\n",
      "JEVP...............80\n",
      "MASS-VOLL!.........59\n",
      "PdA................55\n",
      "PP.................45\n",
      "Aufrecht...........45\n",
      "engagiert..........39\n",
      "AL.................31\n",
      "EAG-LUP............29\n",
      "SD.................22\n",
      "LP.................20\n",
      "MCG................16\n",
      "Les Libres.........13\n",
      "SOL................13\n",
      "Lega................9\n",
      "PC..................7\n",
      "PCS.................7\n",
      "BastA!..............6\n",
      "JA..................6\n",
      "DA..................5\n",
      "Grüne Panther.......5\n",
      "SE..................5\n",
      "JBastA..............4\n",
      "JLB.................4\n",
      "LDP.................4\n",
      "LOVB................4\n",
      "Avanti..............3\n",
      "Forum Alternativo...3\n",
      "Parteifrei..........3\n",
      "Più Donne...........3\n",
      "DAL.................2\n",
      "PdA Basel...........1\n",
      "Pacte Citoyen.......1\n",
      "CSP.................1\n",
      "Parat...............1\n",
      "neo.................1\n",
      "MuPa................1\n"
     ]
    }
   ],
   "source": [
    "party_count = defaultdict(int)\n",
    "\n",
    "for candidate in candidates:\n",
    "    party = candidate.get(\"partyAbbreviation\")\n",
    "    if party:\n",
    "        party_count[party] += 1\n",
    "\n",
    "# Sortieren nach Anzahl Kandidierende pro Partei\n",
    "party_count = dict(sorted(party_count.items(), key=lambda item: item[1], reverse=True))\n",
    "print_dict(party_count)"
   ]
  },
  {
   "cell_type": "markdown",
   "metadata": {},
   "source": [
    "Anscheinend gibt es einige Parteien, die nur sehr wenige Mitglieder haben. Beim späteren Bereinigen der Daten müssen wir Kandidierende dieser Parteien leider aussortieren, da eine gewisse Menge an Daten erforderlich ist, um ein neuronales Netzwerk zu trainieren.\n"
   ]
  },
  {
   "cell_type": "markdown",
   "metadata": {},
   "source": [
    "Wie sieht's aus mit dem Frauenanteil der Kandidierenden?\n"
   ]
  },
  {
   "cell_type": "code",
   "execution_count": null,
   "metadata": {},
   "outputs": [
    {
     "name": "stdout",
     "output_type": "stream",
     "text": [
      "Più Donne.........100%\n",
      "CSP...............100%\n",
      "neo...............100%\n",
      "SE.................80%\n",
      "BastA!.............67%\n",
      "SOL................67%\n",
      "JBastA.............67%\n",
      "JA.................67%\n",
      "EAG-LUP............66%\n",
      "DA.................60%\n",
      "PCS................57%\n",
      "MCG................56%\n",
      "AL.................55%\n",
      "JG.................55%\n",
      "JEVP...............54%\n",
      "Grüne..............52%\n",
      "SP.................51%\n",
      "JUSO...............50%\n",
      "LDP................50%\n",
      "EVP................49%\n",
      "engagiert..........41%\n",
      "GLP................40%\n",
      "PdA................40%\n",
      "Grüne Panther......40%\n",
      "JGLP...............39%\n",
      "Die Mitte..........38%\n",
      "FDP................38%\n",
      "JM.................35%\n",
      "MASS-VOLL!.........34%\n",
      "Forum Alternativo..33%\n",
      "Parteifrei.........33%\n",
      "Aufrecht...........31%\n",
      "Ind................31%\n",
      "Les Libres.........31%\n",
      "JFS................30%\n",
      "PP.................29%\n",
      "EDU................29%\n",
      "JLB................25%\n",
      "LOVB...............25%\n",
      "SVP................25%\n",
      "JSVP...............19%\n",
      "SD.................18%\n",
      "PC.................14%\n",
      "LP..................5%\n"
     ]
    }
   ],
   "source": [
    "# Ein Dictionary für Frauen und Männer, eins nur für Frauen. Kandidierende ohne Eintrag beim Feld \"gender\" werden ignoriert\n",
    "f_and_m = defaultdict(int)\n",
    "f_only = defaultdict(int)\n",
    "\n",
    "for candidate in candidates:\n",
    "    party = candidate.get(\"partyAbbreviation\")\n",
    "    gender = candidate.get(\"gender\")\n",
    "    if party:\n",
    "        if gender == \"f\":\n",
    "            f_only[party] += 1\n",
    "            f_and_m[party] += 1\n",
    "        if gender == \"m\":\n",
    "            f_and_m[party] += 1\n",
    "\n",
    "# Berechnet den Frauenanteil\n",
    "female_share = dict(\n",
    "    [\n",
    "        (party_name, f\"{ratio:.0%}\")\n",
    "        for party_name, ratio in sorted(\n",
    "            [\n",
    "                (party_name, women / f_and_m[party_name])\n",
    "                for party_name, women in f_only.items()\n",
    "            ],\n",
    "            key=lambda item: item[1],\n",
    "            reverse=True,\n",
    "        )\n",
    "    ]\n",
    ")\n",
    "\n",
    "print_dict(female_share)"
   ]
  }
 ],
 "metadata": {
  "kernelspec": {
   "display_name": "parlamentarier-UYno04rm",
   "language": "python",
   "name": "python3"
  },
  "language_info": {
   "codemirror_mode": {
    "name": "ipython",
    "version": 3
   },
   "file_extension": ".py",
   "mimetype": "text/x-python",
   "name": "python",
   "nbconvert_exporter": "python",
   "pygments_lexer": "ipython3",
   "version": "3.12.5"
  }
 },
 "nbformat": 4,
 "nbformat_minor": 2
}
