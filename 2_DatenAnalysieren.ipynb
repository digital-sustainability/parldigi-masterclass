{
 "cells": [
  {
   "cell_type": "markdown",
   "metadata": {},
   "source": [
    "## 2. Die gesammelten Daten analysieren\n"
   ]
  },
  {
   "cell_type": "markdown",
   "metadata": {},
   "source": [
    "Die Daten sind erstmals nur das: Daten. Wir müssen also noch herausfinden, was für Eigenschaften diese überhaupt haben, um sie später verwenden zu können.\n"
   ]
  },
  {
   "cell_type": "markdown",
   "metadata": {},
   "source": [
    "Zuerst wieder die Bibliotheken und Konfigurationen...\n"
   ]
  },
  {
   "cell_type": "code",
   "execution_count": null,
   "metadata": {},
   "outputs": [],
   "source": [
    "import json\n",
    "from collections import defaultdict\n",
    "\n",
    "\n",
    "mode = 1\n",
    "# 1 = Nationalratswahlen\n",
    "# 2 = Ständeratswahlen\n",
    "\n",
    "filename = \"nationalrat_raw.json\" if mode == 1 else \"ständerat_raw.json\""
   ]
  },
  {
   "cell_type": "markdown",
   "metadata": {},
   "source": [
    "Hier ist noch eine kleine Hilfsfunktion zum schönen Darstellen einiger Daten\n"
   ]
  },
  {
   "cell_type": "code",
   "execution_count": null,
   "metadata": {},
   "outputs": [],
   "source": [
    "def print_dict(d: dict):\n",
    "    maxlen_keys = max(map(len, map(str, d.keys())))\n",
    "    maxlen_values = max(map(len, map(str, d.values())))\n",
    "    for key in d.keys():\n",
    "        # abc:.........420\n",
    "        print(f\"{key:.<{maxlen_keys}}{d[key]:.>{maxlen_values+1}}\")"
   ]
  },
  {
   "cell_type": "markdown",
   "metadata": {},
   "source": [
    "Dann folgt das Laden der Daten.\n"
   ]
  },
  {
   "cell_type": "code",
   "execution_count": null,
   "metadata": {},
   "outputs": [],
   "source": [
    "candidates = json.load(open(filename, encoding=\"utf-8\"))"
   ]
  },
  {
   "cell_type": "markdown",
   "metadata": {},
   "source": [
    "Wie viele Personen kandidieren für jede Partei?\n"
   ]
  },
  {
   "cell_type": "code",
   "execution_count": null,
   "metadata": {},
   "outputs": [],
   "source": [
    "party_count = defaultdict(int)\n",
    "\n",
    "for candidate in candidates:\n",
    "    party = candidate.get(\"partyAbbreviation\")\n",
    "    if party:\n",
    "        party_count[party] += 1\n",
    "\n",
    "# Sortieren nach Anzahl Kandidierende pro Partei\n",
    "party_count = dict(sorted(party_count.items(), key=lambda item: item[1], reverse=True))\n",
    "print_dict(party_count)"
   ]
  },
  {
   "cell_type": "markdown",
   "metadata": {},
   "source": [
    "Anscheinend gibt es einige Parteien, die nur sehr wenige Mitglieder haben. Beim späteren Bereinigen der Daten müssen wir Kandidierende dieser Parteien leider aussortieren, da eine gewisse Menge an Daten erforderlich ist, um ein neuronales Netzwerk zu trainieren.\n"
   ]
  },
  {
   "cell_type": "markdown",
   "metadata": {},
   "source": [
    "Wie sieht's aus mit dem Frauenanteil der Kandidierenden?\n"
   ]
  },
  {
   "cell_type": "code",
   "execution_count": null,
   "metadata": {},
   "outputs": [],
   "source": [
    "# Ein Dictionary für Frauen und Männer, eins nur für Frauen. Kandidierende ohne Eintrag beim Feld \"gender\" werden ignoriert\n",
    "f_and_m = defaultdict(int)\n",
    "f_only = defaultdict(int)\n",
    "\n",
    "for candidate in candidates:\n",
    "    party = candidate.get(\"partyAbbreviation\")\n",
    "    gender = candidate.get(\"gender\")\n",
    "    if party:\n",
    "        if gender == \"f\":\n",
    "            f_only[party] += 1\n",
    "            f_and_m[party] += 1\n",
    "        if gender == \"m\":\n",
    "            f_and_m[party] += 1\n",
    "\n",
    "# Berechnet den Frauenanteil\n",
    "female_share = dict(\n",
    "    [\n",
    "        (party_name, f\"{ratio:.0%}\")\n",
    "        for party_name, ratio in sorted(\n",
    "            [\n",
    "                (party_name, women / f_and_m[party_name])\n",
    "                for party_name, women in f_only.items()\n",
    "            ],\n",
    "            key=lambda item: item[1],\n",
    "            reverse=True,\n",
    "        )\n",
    "    ]\n",
    ")\n",
    "\n",
    "print_dict(female_share)"
   ]
  }
 ],
 "metadata": {
  "kernelspec": {
   "display_name": "parlamentarier-UYno04rm",
   "language": "python",
   "name": "python3"
  },
  "language_info": {
   "codemirror_mode": {
    "name": "ipython",
    "version": 3
   },
   "file_extension": ".py",
   "mimetype": "text/x-python",
   "name": "python",
   "nbconvert_exporter": "python",
   "pygments_lexer": "ipython3",
   "version": "3.12.5"
  }
 },
 "nbformat": 4,
 "nbformat_minor": 2
}
