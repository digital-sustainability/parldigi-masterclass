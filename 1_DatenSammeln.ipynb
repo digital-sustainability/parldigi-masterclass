{
 "cells": [
  {
   "cell_type": "markdown",
   "metadata": {},
   "source": [
    "## 1. Daten sammeln"
   ]
  },
  {
   "cell_type": "markdown",
   "metadata": {},
   "source": [
    "Als erstes werden die Daten von Smartvote abgefragt und abgespeichert. Smartvote stellt dafür eine Schnittstelle (API) zur Verfügung mithilfe dere die Daten abgefragt werden können.\n",
    "Wir wollen für die letzte Nationalratswahl die Antworten aller Kandidierenden abfragen.\n",
    "\n",
    "Um mithilfe von Python eine Anfrage an eine Schnittstelle an einem anderen Ort im Internet zu machen, wird die Programmierbibliothek `requests` verwendet.\n",
    "Diese stellt eine Anfrage zusammen und sendet sie an einen anderen Ort im Internet und kann die entsprechende Antwort verarbeiten.\n",
    "\n",
    "Die Daten werden im Datenformat [JSON](https://de.wikipedia.org/wiki/JavaScript_Object_Notation) zur Verfügung gestellt.\n",
    "Ein sehr simples strukturiertes Dateiformat."
   ]
  },
  {
   "cell_type": "markdown",
   "metadata": {},
   "source": [
    "Als erstes müssen die verwendeten Libraries importiert werden.\n",
    "- `requests` für das Anfordern der Daten\n",
    "- `json` für das Handhaben der gesammelten Daten\n"
   ]
  },
  {
   "cell_type": "code",
   "execution_count": null,
   "metadata": {},
   "outputs": [],
   "source": [
    "import requests\n",
    "import json"
   ]
  },
  {
   "cell_type": "markdown",
   "metadata": {},
   "source": [
    "Als erstes müssen wir ein paar Definitionen machen, welche Informationen wir beschaffen wollen (National- oder Ständeratswahlen) und in welcher Datei wir die Ergebnisse zwischenspeichern wollen."
   ]
  },
  {
   "cell_type": "code",
   "execution_count": null,
   "metadata": {},
   "outputs": [],
   "source": [
    "mode = 1\n",
    "# 1 = Nationalratswahlen\n",
    "# 2 = Ständeratswahlen\n",
    "\n",
    "electionId = \"1057\" if mode == 1 else \"1084\"\n",
    "filename = \"nationalrat_raw.json\" if mode == 1 else \"ständerat_raw.json\""
   ]
  },
  {
   "cell_type": "markdown",
   "metadata": {},
   "source": [
    "Danach kann die Schnittstelle angefragt werden. Wir holen uns über die Schnittstelle so viel Informationen zu jeder kandidierenden Person wie möglich."
   ]
  },
  {
   "cell_type": "code",
   "execution_count": null,
   "metadata": {},
   "outputs": [],
   "source": [
    "url = \"https://backend.smartvote.ch/api/graphql\"\n",
    "headers = {}\n",
    "\n",
    "body = {\n",
    "    \"operationName\": \"SearchCandidates\",\n",
    "    \"variables\": {\"searchParams\": {\"electionId\": electionId}},\n",
    "    \"query\": \"\"\"\n",
    "    query SearchCandidates($searchParams: CandidateSearchParams!) {\n",
    "        candidates(searchParams: $searchParams) {\n",
    "            ...SearchCandidate\n",
    "        }\n",
    "    }\n",
    "\n",
    "    fragment SearchCandidate on Candidate {\n",
    "        id\n",
    "        firstname\n",
    "        lastname\n",
    "        yearOfBirth\n",
    "        profileImageUrl\n",
    "        isIncumbent\n",
    "        isElected\n",
    "        partyAbbreviation\n",
    "        partyColor\n",
    "        hasSmartvoteProfile\n",
    "        gender\n",
    "\n",
    "        answers {\n",
    "            ...Answer\n",
    "        }\n",
    "    }\n",
    "\n",
    "    fragment Answer on Answer {\n",
    "        questionId\n",
    "        value\n",
    "    }\n",
    "    \"\"\",\n",
    "}\n",
    "\n",
    "\n",
    "response = requests.post(url, headers=headers, json=body)\n",
    "\n",
    "\n",
    "if response.status_code == 200:\n",
    "    candidates = response.json()[\"data\"][\"candidates\"]\n",
    "    print(f\"Request was successful and returned {len(candidates)} candidate(s)\")\n",
    "else:\n",
    "    print(f\"Request failed with status code {response.status_code}\")"
   ]
  },
  {
   "cell_type": "markdown",
   "metadata": {},
   "source": [
    "Jetzt können wir uns einmal die Informationen zu einer beliebigen Kandidierenden Person darstellen."
   ]
  },
  {
   "cell_type": "code",
   "execution_count": null,
   "metadata": {},
   "outputs": [],
   "source": [
    "print(json.dumps(candidates[242 if len(candidates) > 242 else 52], indent=4, ensure_ascii=False))"
   ]
  },
  {
   "cell_type": "markdown",
   "metadata": {},
   "source": [
    "Als nächstes entfernen wir alle Kandidat*innen aus, die kein Smartvote-Profil haben."
   ]
  },
  {
   "cell_type": "code",
   "execution_count": null,
   "metadata": {},
   "outputs": [],
   "source": [
    "candidates = [candidate for candidate in candidates if candidate[\"hasSmartvoteProfile\"]]"
   ]
  },
  {
   "cell_type": "markdown",
   "metadata": {},
   "source": [
    "Um die Daten weiterverwenden zu können speichern wir die Resultate in einer eigenen Datei ab."
   ]
  },
  {
   "cell_type": "code",
   "execution_count": null,
   "metadata": {},
   "outputs": [],
   "source": [
    "# Write the response data to a file\n",
    "with open(filename, \"w\", encoding=\"utf-8\") as json_file:\n",
    "    json.dump(candidates, json_file, indent=4, ensure_ascii=False)\n",
    "\n",
    "print(f\"Response has been written to {filename}.\")"
   ]
  }
 ],
 "metadata": {
  "kernelspec": {
   "display_name": "Python 3",
   "language": "python",
   "name": "python3"
  },
  "language_info": {
   "codemirror_mode": {
    "name": "ipython",
    "version": 3
   },
   "file_extension": ".py",
   "mimetype": "text/x-python",
   "name": "python",
   "nbconvert_exporter": "python",
   "pygments_lexer": "ipython3",
   "version": "3.12.5"
  }
 },
 "nbformat": 4,
 "nbformat_minor": 2
}
